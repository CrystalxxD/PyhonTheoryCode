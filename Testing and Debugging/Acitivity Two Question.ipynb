{
 "cells": [
  {
   "attachments": {},
   "cell_type": "markdown",
   "metadata": {},
   "source": [
    "1. Compare unit testing, integration testing and system testing.\n",
    "\n",
    "Unit testing involves testing individual components or modules of a software system to ensure they function correctly in isolation. Integration testing focuses on verifying that different modules or components work together seamlessly and can exchange data as intended. System testing evaluates the complete software application, assessing its overall functionality, performance, and compliance with specified requirements in a real-world environment. Each testing level serves distinct purposes and contributes to delivering a robust, reliable software product."
   ]
  }
 ],
 "metadata": {
  "language_info": {
   "name": "python"
  },
  "orig_nbformat": 4
 },
 "nbformat": 4,
 "nbformat_minor": 2
}
