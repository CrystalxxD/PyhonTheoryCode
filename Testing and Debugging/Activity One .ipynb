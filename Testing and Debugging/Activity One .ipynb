{
 "cells": [
  {
   "attachments": {},
   "cell_type": "markdown",
   "metadata": {},
   "source": [
    "1. Compare boundary testing, path coverage testing and faulty and abnormal data testing.\n",
    "\n",
    "Boundary testing focuses on validating edge cases by testing values at, just inside, and just outside input boundaries to catch off-by-one errors. Path coverage testing ensures that every possible logical path in the code is executed, providing comprehensive coverage of control flow but can be complex for large systems. Faulty and abnormal data testing evaluates the system's robustness by intentionally supplying invalid or unexpected inputs to identify vulnerabilities and error-handling issues. "
   ]
  },
  {
   "cell_type": "code",
   "execution_count": 1,
   "metadata": {},
   "outputs": [
    {
     "name": "stdout",
     "output_type": "stream",
     "text": [
      "False\n",
      "True\n",
      "True\n",
      "False\n"
     ]
    }
   ],
   "source": [
    "def is_safe_temperature(temp):\n",
    "    return 0 <= temp <= 100\n",
    "\n",
    "# TODO: Write test cases for all paths\n",
    "print(is_safe_temperature(-1))\n",
    "print(is_safe_temperature(0))\n",
    "print(is_safe_temperature(100))\n",
    "print(is_safe_temperature(101))"
   ]
  },
  {
   "cell_type": "code",
   "execution_count": 2,
   "metadata": {},
   "outputs": [
    {
     "name": "stdout",
     "output_type": "stream",
     "text": [
      "Free\n",
      "$5\n",
      "$10\n",
      "Senior Discount - $7\n"
     ]
    }
   ],
   "source": [
    "def ticket_price(age):\n",
    "    if age < 5:\n",
    "        return \"Free\"\n",
    "    elif 5 <= age <= 17:\n",
    "        return \"$5\"\n",
    "    elif 18 <= age <= 64:\n",
    "        return \"$10\"\n",
    "    else:\n",
    "        return \"Senior Discount - $7\"\n",
    "\n",
    "# TODO: Write test cases for all paths\n",
    "print(ticket_price(4))\n",
    "print(ticket_price(16))\n",
    "print(ticket_price(34))\n",
    "print(ticket_price(100))"
   ]
  },
  {
   "cell_type": "code",
   "execution_count": 4,
   "metadata": {},
   "outputs": [
    {
     "name": "stdout",
     "output_type": "stream",
     "text": [
      "30.0\n",
      "Error: Cannot divide by zero\n",
      "Error: Invalid input, numbers required\n"
     ]
    }
   ],
   "source": [
    "def divide_numbers(a, b):\n",
    "    try:\n",
    "        return a / b\n",
    "    except ZeroDivisionError:\n",
    "        return \"Error: Cannot divide by zero\"\n",
    "    except TypeError:\n",
    "        return \"Error: Invalid input, numbers required\"\n",
    "\n",
    "# TODO: Write test cases for abnormal and faulty inputs\n",
    "print(divide_numbers(60,2))\n",
    "print(divide_numbers(210,0))\n",
    "print(divide_numbers('144',12))\n"
   ]
  }
 ],
 "metadata": {
  "kernelspec": {
   "display_name": "Python 3",
   "language": "python",
   "name": "python3"
  },
  "language_info": {
   "codemirror_mode": {
    "name": "ipython",
    "version": 3
   },
   "file_extension": ".py",
   "mimetype": "text/x-python",
   "name": "python",
   "nbconvert_exporter": "python",
   "pygments_lexer": "ipython3",
   "version": "3.12.8"
  },
  "orig_nbformat": 4
 },
 "nbformat": 4,
 "nbformat_minor": 2
}
